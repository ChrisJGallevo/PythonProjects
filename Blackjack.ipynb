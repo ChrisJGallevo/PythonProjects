{
 "cells": [
  {
   "cell_type": "markdown",
   "id": "fbc97a3d-0a34-4910-aeab-397c142885df",
   "metadata": {},
   "source": [
    "## BlackJack"
   ]
  },
  {
   "cell_type": "code",
   "execution_count": 65,
   "id": "50132a8d-50e5-48c6-8d27-88a08bc5eb0e",
   "metadata": {},
   "outputs": [
    {
     "name": "stdout",
     "output_type": "stream",
     "text": [
      "Your cards: [4, 3], current score: 7\n",
      "Computer's first card: 10\n"
     ]
    },
    {
     "name": "stdin",
     "output_type": "stream",
     "text": [
      "Would you like to continue drawing cards? Press 'Y' or 'N':  y\n"
     ]
    },
    {
     "name": "stdout",
     "output_type": "stream",
     "text": [
      "Your cards: [4, 3, 2], current score: 9\n",
      "Computer's first card: 10\n"
     ]
    },
    {
     "name": "stdin",
     "output_type": "stream",
     "text": [
      "Would you like to continue drawing cards? Press 'Y' or 'N':  y\n"
     ]
    },
    {
     "name": "stdout",
     "output_type": "stream",
     "text": [
      "Your cards: [4, 3, 2, 10], current score: 19\n",
      "Computer's first card: 10\n"
     ]
    },
    {
     "name": "stdin",
     "output_type": "stream",
     "text": [
      "Would you like to continue drawing cards? Press 'Y' or 'N':  n\n"
     ]
    },
    {
     "name": "stdout",
     "output_type": "stream",
     "text": [
      "Computer draw went over. You win!\n"
     ]
    },
    {
     "name": "stdin",
     "output_type": "stream",
     "text": [
      "Would you like to play Blackjack? Press 'Y' or 'N':  n\n"
     ]
    }
   ],
   "source": [
    "import random\n",
    "import time\n",
    "from IPython.display import clear_output\n",
    "\n",
    "# Credit ASCII ART Code taken from @ConwayC1987 on GITHUB\n",
    "def startpg():\n",
    "    \"\"\"\n",
    "    Title using ASCII art\n",
    "    \"\"\"\n",
    "    TITLE = r\"\"\"\n",
    "    ██████╗ ██╗      █████╗  ██████╗██╗  ██╗     ██╗ █████╗  ██████╗██╗  ██╗\n",
    "    ██╔══██╗██║     ██╔══██╗██╔════╝██║ ██╔╝     ██║██╔══██╗██╔════╝██║ ██╔╝\n",
    "    ██████╔╝██║     ███████║██║     █████╔╝      ██║███████║██║     █████╔╝\n",
    "    ██╔══██╗██║     ██╔══██║██║     ██╔═██╗ ██   ██║██╔══██║██║     ██╔═██╗\n",
    "    ███████║███████╗██║  ██║╚██████╗██║  ██╗╚█████╔╝██║  ██║╚██████╗██║  ██╗\n",
    "    ╚══════╝╚══════╝╚═╝  ╚═╝ ╚═════╝╚═╝  ╚═╝ ╚════╝ ╚═╝  ╚═╝ ╚═════╝╚═╝  ╚═╝\n",
    "    \"\"\"\n",
    "\n",
    "    print(TITLE)\n",
    "\n",
    "\n",
    "def welcome_message():\n",
    "    print(f\"You are now playing:\")\n",
    "\n",
    "welcome_message()\n",
    "startpg()\n",
    "time.sleep(5)\n",
    "clear_output(wait=True)\n",
    "\n",
    "\n",
    "\n",
    "def deal_card():\n",
    "    \"\"\"\n",
    "    This function \n",
    "    \"\"\"\n",
    "    cards_list = [11,2,3,4,5,6,7,8,9,10,10,10,10]\n",
    "    card = random.choice(cards_list)\n",
    "    return card\n",
    "\n",
    "def calculate_score(card):\n",
    "    \"\"\"\n",
    "    This function takes a list of cards and calculates  the total score\n",
    "    \"\"\"\n",
    "    if sum(card) == 21 and len(card) == 2:\n",
    "        return 0\n",
    "    # If you draw an ace, convert the value from 11 to 1 \n",
    "    if 11 in card and sum(card) > 21:\n",
    "        card.remove(11)\n",
    "        card.append(1)\n",
    "    return sum(card)\n",
    "\n",
    "\n",
    "\n",
    "''''\n",
    "def draw():\n",
    "    user_cards.extend(random.sample(cards_list,1))\n",
    "    computer_cards.extend(random.sample(cards_list,1))\n",
    "    print(f\"Your cards: {user_cards}, current score:{sum(user_cards)}\")\n",
    "    print(f\"Computer's latest card draw:{computer_cards[-1]}\")\n",
    "'''\n",
    "\n",
    "\n",
    "\n",
    "\n",
    "\n",
    "def score_check():\n",
    "    \"\"\"\n",
    "    This function compares the scores between the User and the Computer's Score. \n",
    "    \"\"\"\n",
    "    if user_score == 21 or user_score == 0 and (computer_score != 0 or computer_score != 21):\n",
    "        print(f\"You win! You got a Blackjack\")\n",
    "    elif user_score > 21:\n",
    "        print(f\"You went over. The following is the Computer's deck: {computer_cards}. Computer wins!\")\n",
    "    elif computer_score == 0 or computer_score == 21:\n",
    "        print(f\"Computer has blackjack. The following is the Computer's deck: {computer_cards}. The Computer wins!\")\n",
    "    elif user_score < computer_score and computer_score < 21:\n",
    "        print(f\"The computer has the following: {computer_cards}. Computer wins!\")\n",
    "    elif user_score < computer_score and computer_score > 21:\n",
    "        print(\"Computer draw went over. You win!\")\n",
    "    elif user_score == computer_score:\n",
    "        print(\"It's a draw.\")\n",
    "\n",
    "\n",
    "\n",
    "play = True\n",
    "        \n",
    "\n",
    "\n",
    "# Nested While Loop used in order to restart the game if user wants to play again\n",
    "while play == True:\n",
    "    user_cards = []\n",
    "    computer_cards = []\n",
    "    is_game_over = False\n",
    "\n",
    "    # User and computer gets two random cards each\n",
    "    for _ in range(2):\n",
    "        user_cards.append(deal_card())\n",
    "        computer_cards.append(deal_card())\n",
    "        \n",
    "    user_score = calculate_score(user_cards)\n",
    "    computer_score = calculate_score(computer_cards)\n",
    "    \n",
    "\n",
    "    while is_game_over == False:\n",
    "        print(f\"Your cards: {user_cards}, current score: {user_score}\")\n",
    "        print(f\"Computer's first card: {computer_cards[0]}\")\n",
    "        to_continue= str.upper(input(\"Would you like to continue drawing cards? Press 'Y' or 'N': \"))\n",
    "        # Adds cards to the deck if they want to continue\n",
    "        if to_continue == \"Y\":\n",
    "            user_cards.append(deal_card())\n",
    "            user_score = calculate_score(user_cards)\n",
    "            computer_cards.append(deal_card())\n",
    "            computer_score = calculate_score(computer_cards)\n",
    "            \n",
    "        # Ends the current game and terminates the inner while loop \n",
    "        elif to_continue == \"N\":\n",
    "            score_check()\n",
    "            is_game_over = True\n",
    "            break\n",
    "    # Prompt the user if they want to play again       \n",
    "    play_game = str.upper(input(\"Would you like to play Blackjack? Press 'Y' or 'N': \"))\n",
    "\n",
    "    if play_game == 'Y':\n",
    "        Play = True\n",
    "        is_game_over = False\n",
    "    else:\n",
    "        play = False\n",
    "\n",
    "    \n",
    "\n"
   ]
  }
 ],
 "metadata": {
  "kernelspec": {
   "display_name": "Python [conda env:base] *",
   "language": "python",
   "name": "conda-base-py"
  },
  "language_info": {
   "codemirror_mode": {
    "name": "ipython",
    "version": 3
   },
   "file_extension": ".py",
   "mimetype": "text/x-python",
   "name": "python",
   "nbconvert_exporter": "python",
   "pygments_lexer": "ipython3",
   "version": "3.11.10"
  }
 },
 "nbformat": 4,
 "nbformat_minor": 5
}
